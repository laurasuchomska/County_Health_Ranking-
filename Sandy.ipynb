{
 "cells": [
  {
   "cell_type": "code",
   "execution_count": 131,
   "metadata": {},
   "outputs": [],
   "source": [
    "import pandas as pd\n",
    "import seaborn as sns\n",
    "import numpy as np\n",
    "import notebook_toolkit as nt\n",
    "import matplotlib.pyplot as plt\n",
    "import plotly.figure_factory as ff\n",
    "import seaborn as sns\n",
    "from statsmodels.formula.api import ols\n",
    "from statsmodels.stats.outliers_influence import variance_inflation_factor\n",
    "import statsmodels.api as sm\n",
    "import scipy.stats as stats\n",
    "from sklearn.model_selection import train_test_split\n",
    "sns.set_style('darkgrid')\n",
    "%matplotlib inline\n",
    "nt.set_environment()\n",
    "%run variables.py\n",
    "raw_df = pd.read_csv(\"analytic_data2019.csv\")\n",
    "from itertools import combinations, product\n",
    "from sklearn.model_selection import KFold,cross_val_predict,cross_val_score, cross_validate\n",
    "from sklearn.linear_model import LinearRegression,Ridge, Lasso\n",
    "from sklearn.preprocessing import StandardScaler\n",
    "from sklearn.metrics import r2_score\n",
    "import scipy.stats as stats\n",
    "from sklearn.preprocessing import PolynomialFeatures\n"
   ]
  },
  {
   "cell_type": "code",
   "execution_count": 31,
   "metadata": {},
   "outputs": [],
   "source": [
    "working_df = nt.drop_column_keyword_search(raw_df, keywords)"
   ]
  },
  {
   "cell_type": "code",
   "execution_count": 32,
   "metadata": {},
   "outputs": [],
   "source": [
    "ten_percent_missing_values_columns = nt.column_null_percentage(working_df)\n",
    "working_df = working_df.drop(columns = ten_percent_missing_values_columns.index)\n",
    "working_df = working_df.drop(0)"
   ]
  },
  {
   "cell_type": "code",
   "execution_count": 33,
   "metadata": {},
   "outputs": [],
   "source": [
    "string_datatype_df = working_df.iloc[:, 0:4]\n",
    "float_datatype_df = working_df.iloc[:, 5:].astype(float)\n",
    "working_df = pd.concat([string_datatype_df, float_datatype_df], axis = 1)"
   ]
  },
  {
   "cell_type": "code",
   "execution_count": 34,
   "metadata": {},
   "outputs": [],
   "source": [
    "non_county_df = working_df[working_df[ranked].isnull()]\n",
    "non_county_df.reset_index(inplace = True)\n",
    "del non_county_df[\"index\"], non_county_df[ranked]"
   ]
  },
  {
   "cell_type": "code",
   "execution_count": 35,
   "metadata": {},
   "outputs": [],
   "source": [
    "county_level_df = working_df[working_df[ranked].notnull()]\n",
    "county_level_df.reset_index(inplace = True)\n",
    "del county_level_df[\"index\"], county_level_df[ranked]"
   ]
  },
  {
   "cell_type": "code",
   "execution_count": 36,
   "metadata": {},
   "outputs": [],
   "source": [
    "county_level_df = county_level_df.fillna(county_level_df.median())"
   ]
  },
  {
   "cell_type": "code",
   "execution_count": 37,
   "metadata": {},
   "outputs": [],
   "source": [
    "non_county_df[free_lunch] = non_county_df[free_lunch].fillna(non_county_df[free_lunch].median())"
   ]
  },
  {
   "cell_type": "code",
   "execution_count": 38,
   "metadata": {},
   "outputs": [],
   "source": [
    "del non_county_df[housing_costs], non_county_df[overcrowding]\n",
    "del non_county_df[facilities], non_county_df[release_year]"
   ]
  },
  {
   "cell_type": "code",
   "execution_count": 39,
   "metadata": {},
   "outputs": [],
   "source": [
    "non_county_df.iloc[2,35] = non_county_df.iloc[:,35].median()\n",
    "non_county_df.iloc[12,35] = non_county_df.iloc[:,35].median()\n",
    "non_county_df.iloc[12,36] = non_county_df.iloc[:,36].median()\n",
    "non_county_df = non_county_df.fillna(non_county_df.mean())"
   ]
  },
  {
   "cell_type": "code",
   "execution_count": 40,
   "metadata": {},
   "outputs": [],
   "source": [
    "national_level_df = non_county_df.iloc[0]\n",
    "state_level_df = non_county_df.iloc[1:,:]"
   ]
  },
  {
   "cell_type": "code",
   "execution_count": 41,
   "metadata": {},
   "outputs": [],
   "source": [
    "eda_df = county_level_df.copy()\n",
    "eda_df = eda_df.drop(columns = ['Drinking water violations raw value', '% Asian raw value'])"
   ]
  },
  {
   "cell_type": "code",
   "execution_count": 42,
   "metadata": {},
   "outputs": [],
   "source": [
    "to_drop = nt.multicolinear_drop(eda_df)"
   ]
  },
  {
   "cell_type": "code",
   "execution_count": 43,
   "metadata": {},
   "outputs": [],
   "source": [
    "eda_df = eda_df.drop(eda_df[to_drop], axis =1)"
   ]
  },
  {
   "cell_type": "code",
   "execution_count": 44,
   "metadata": {},
   "outputs": [],
   "source": [
    "clean_df = eda_df[features]"
   ]
  },
  {
   "cell_type": "code",
   "execution_count": 45,
   "metadata": {},
   "outputs": [],
   "source": [
    "x_df = clean_df.drop(columns = ['Teen births raw value',\n",
    "                                'State FIPS Code', \n",
    "                                'County FIPS Code', \n",
    "                                '5-digit FIPS Code',\n",
    "                                'State Abbreviation'])"
   ]
  },
  {
   "cell_type": "code",
   "execution_count": 46,
   "metadata": {},
   "outputs": [],
   "source": [
    "outcome = clean_df['Teen births raw value']\n",
    "features = nt.norm_feat(x_df)"
   ]
  },
  {
   "cell_type": "code",
   "execution_count": 47,
   "metadata": {},
   "outputs": [
    {
     "name": "stdout",
     "output_type": "stream",
     "text": [
      "0.6496664100366882\n"
     ]
    }
   ],
   "source": [
    "lm=LinearRegression()\n",
    "lm.fit(features,outcome)\n",
    "# Applying 5 folds on the training set and performing cross validation\n",
    "Kfold = KFold(5)\n",
    "baseline=np.mean(cross_val_score(lm,features,outcome,cv=Kfold))\n",
    "# R-squared value from baseline model\n",
    "print(baseline)"
   ]
  },
  {
   "cell_type": "code",
   "execution_count": 48,
   "metadata": {},
   "outputs": [
    {
     "data": {
      "text/plain": [
       "{'fit_time': array([0.00910115, 0.00590396, 0.00548124, 0.00665808, 0.00764012,\n",
       "        0.00855112, 0.0059588 ]),\n",
       " 'score_time': array([0.00208688, 0.00228119, 0.00261569, 0.002455  , 0.00177503,\n",
       "        0.00306106, 0.00162625]),\n",
       " 'test_score': array([0.72107213, 0.69536791, 0.68806029, 0.70193445, 0.67423073,\n",
       "        0.67193644, 0.72748381]),\n",
       " 'train_score': array([0.70406272, 0.70870081, 0.71022608, 0.70750775, 0.71138014,\n",
       "        0.71157544, 0.70349478])}"
      ]
     },
     "execution_count": 48,
     "metadata": {},
     "output_type": "execute_result"
    }
   ],
   "source": [
    "regression = LinearRegression()\n",
    "\n",
    "crossvalidation = KFold(n_splits=7, shuffle=True, random_state=42)\n",
    "baseline_model = cross_validate(\n",
    "    regression, X_train, y_train, scoring='r2', cv=crossvalidation, return_train_score = True)\n",
    "baseline_model"
   ]
  },
  {
   "cell_type": "code",
   "execution_count": 49,
   "metadata": {},
   "outputs": [
    {
     "data": {
      "text/html": [
       "<table class=\"simpletable\">\n",
       "<caption>OLS Regression Results</caption>\n",
       "<tr>\n",
       "  <th>Dep. Variable:</th>    <td>Teen births raw value</td> <th>  R-squared:         </th> <td>   0.707</td> \n",
       "</tr>\n",
       "<tr>\n",
       "  <th>Model:</th>                     <td>OLS</td>          <th>  Adj. R-squared:    </th> <td>   0.705</td> \n",
       "</tr>\n",
       "<tr>\n",
       "  <th>Method:</th>               <td>Least Squares</td>     <th>  F-statistic:       </th> <td>   250.7</td> \n",
       "</tr>\n",
       "<tr>\n",
       "  <th>Date:</th>               <td>Wed, 26 Feb 2020</td>    <th>  Prob (F-statistic):</th>  <td>  0.00</td>  \n",
       "</tr>\n",
       "<tr>\n",
       "  <th>Time:</th>                   <td>06:25:51</td>        <th>  Log-Likelihood:    </th> <td> -8800.0</td> \n",
       "</tr>\n",
       "<tr>\n",
       "  <th>No. Observations:</th>        <td>  2513</td>         <th>  AIC:               </th> <td>1.765e+04</td>\n",
       "</tr>\n",
       "<tr>\n",
       "  <th>Df Residuals:</th>            <td>  2488</td>         <th>  BIC:               </th> <td>1.780e+04</td>\n",
       "</tr>\n",
       "<tr>\n",
       "  <th>Df Model:</th>                <td>    24</td>         <th>                     </th>     <td> </td>    \n",
       "</tr>\n",
       "<tr>\n",
       "  <th>Covariance Type:</th>        <td>nonrobust</td>       <th>                     </th>     <td> </td>    \n",
       "</tr>\n",
       "</table>\n",
       "<table class=\"simpletable\">\n",
       "<tr>\n",
       "                                    <td></td>                                      <th>coef</th>     <th>std err</th>      <th>t</th>      <th>P>|t|</th>  <th>[0.025</th>    <th>0.975]</th>  \n",
       "</tr>\n",
       "<tr>\n",
       "  <th>const</th>                                                                <td>   53.7497</td> <td>    5.783</td> <td>    9.295</td> <td> 0.000</td> <td>   42.410</td> <td>   65.090</td>\n",
       "</tr>\n",
       "<tr>\n",
       "  <th>Poor or fair health raw value</th>                                        <td>  139.6183</td> <td>    8.527</td> <td>   16.373</td> <td> 0.000</td> <td>  122.897</td> <td>  156.339</td>\n",
       "</tr>\n",
       "<tr>\n",
       "  <th>Low birthweight raw value</th>                                            <td>   62.3805</td> <td>   11.683</td> <td>    5.339</td> <td> 0.000</td> <td>   39.471</td> <td>   85.290</td>\n",
       "</tr>\n",
       "<tr>\n",
       "  <th>Food environment index raw value</th>                                     <td>   -0.0187</td> <td>    0.209</td> <td>   -0.090</td> <td> 0.929</td> <td>   -0.429</td> <td>    0.391</td>\n",
       "</tr>\n",
       "<tr>\n",
       "  <th>Access to exercise opportunities raw value</th>                           <td>    2.0971</td> <td>    1.005</td> <td>    2.086</td> <td> 0.037</td> <td>    0.126</td> <td>    4.068</td>\n",
       "</tr>\n",
       "<tr>\n",
       "  <th>Excessive drinking raw value</th>                                         <td>  -38.9848</td> <td>    7.694</td> <td>   -5.067</td> <td> 0.000</td> <td>  -54.072</td> <td>  -23.898</td>\n",
       "</tr>\n",
       "<tr>\n",
       "  <th>Sexually transmitted infections raw value</th>                            <td>    0.0047</td> <td>    0.001</td> <td>    4.848</td> <td> 0.000</td> <td>    0.003</td> <td>    0.007</td>\n",
       "</tr>\n",
       "<tr>\n",
       "  <th>Ratio of population to primary care physicians.</th>                      <td>   -0.0001</td> <td> 7.93e-05</td> <td>   -1.518</td> <td> 0.129</td> <td>   -0.000</td> <td> 3.51e-05</td>\n",
       "</tr>\n",
       "<tr>\n",
       "  <th>Ratio of population to mental health providers.</th>                      <td>   -0.0001</td> <td> 7.43e-05</td> <td>   -1.636</td> <td> 0.102</td> <td>   -0.000</td> <td> 2.42e-05</td>\n",
       "</tr>\n",
       "<tr>\n",
       "  <th>High school graduation raw value</th>                                     <td>   -3.3136</td> <td>    2.632</td> <td>   -1.259</td> <td> 0.208</td> <td>   -8.474</td> <td>    1.847</td>\n",
       "</tr>\n",
       "<tr>\n",
       "  <th>Some college raw value</th>                                               <td>  -31.3963</td> <td>    2.334</td> <td>  -13.450</td> <td> 0.000</td> <td>  -35.974</td> <td>  -26.819</td>\n",
       "</tr>\n",
       "<tr>\n",
       "  <th>Unemployment raw value</th>                                               <td>   33.7419</td> <td>   13.013</td> <td>    2.593</td> <td> 0.010</td> <td>    8.224</td> <td>   59.260</td>\n",
       "</tr>\n",
       "<tr>\n",
       "  <th>Income inequality raw value</th>                                          <td>    0.2573</td> <td>    0.292</td> <td>    0.881</td> <td> 0.379</td> <td>   -0.316</td> <td>    0.830</td>\n",
       "</tr>\n",
       "<tr>\n",
       "  <th>Children in single-parent households raw value</th>                       <td>   11.7266</td> <td>    2.541</td> <td>    4.615</td> <td> 0.000</td> <td>    6.744</td> <td>   16.710</td>\n",
       "</tr>\n",
       "<tr>\n",
       "  <th>Violent crime raw value</th>                                              <td>    0.0049</td> <td>    0.001</td> <td>    4.619</td> <td> 0.000</td> <td>    0.003</td> <td>    0.007</td>\n",
       "</tr>\n",
       "<tr>\n",
       "  <th>Severe housing problems raw value</th>                                    <td>  -71.8006</td> <td>    6.333</td> <td>  -11.338</td> <td> 0.000</td> <td>  -84.218</td> <td>  -59.383</td>\n",
       "</tr>\n",
       "<tr>\n",
       "  <th>Percentage of households with overcrowding</th>                           <td>  110.7567</td> <td>   12.748</td> <td>    8.688</td> <td> 0.000</td> <td>   85.759</td> <td>  135.754</td>\n",
       "</tr>\n",
       "<tr>\n",
       "  <th>Percentage of households with lack of kitchen or plumbing facilities</th> <td>   -7.5928</td> <td>   13.605</td> <td>   -0.558</td> <td> 0.577</td> <td>  -34.270</td> <td>   19.085</td>\n",
       "</tr>\n",
       "<tr>\n",
       "  <th>Insufficient sleep raw value</th>                                         <td>  -53.2070</td> <td>    6.387</td> <td>   -8.330</td> <td> 0.000</td> <td>  -65.732</td> <td>  -40.682</td>\n",
       "</tr>\n",
       "<tr>\n",
       "  <th>Ratio of population to primary care providers other than physicians.</th> <td>   -0.0004</td> <td> 8.95e-05</td> <td>   -3.920</td> <td> 0.000</td> <td>   -0.001</td> <td>   -0.000</td>\n",
       "</tr>\n",
       "<tr>\n",
       "  <th>Population raw value</th>                                                 <td>-1.138e-06</td> <td> 5.61e-07</td> <td>   -2.030</td> <td> 0.042</td> <td>-2.24e-06</td> <td>-3.87e-08</td>\n",
       "</tr>\n",
       "<tr>\n",
       "  <th>% below 18 years of age raw value</th>                                    <td>   84.0504</td> <td>    6.274</td> <td>   13.398</td> <td> 0.000</td> <td>   71.749</td> <td>   96.352</td>\n",
       "</tr>\n",
       "<tr>\n",
       "  <th>% not proficient in English raw value</th>                                <td>  -28.0304</td> <td>    7.667</td> <td>   -3.656</td> <td> 0.000</td> <td>  -43.065</td> <td>  -12.995</td>\n",
       "</tr>\n",
       "<tr>\n",
       "  <th>% Females raw value</th>                                                  <td>  -52.7113</td> <td>    8.857</td> <td>   -5.951</td> <td> 0.000</td> <td>  -70.079</td> <td>  -35.343</td>\n",
       "</tr>\n",
       "<tr>\n",
       "  <th>% Rural raw value</th>                                                    <td>    1.1089</td> <td>    0.835</td> <td>    1.327</td> <td> 0.185</td> <td>   -0.529</td> <td>    2.747</td>\n",
       "</tr>\n",
       "</table>\n",
       "<table class=\"simpletable\">\n",
       "<tr>\n",
       "  <th>Omnibus:</th>       <td>93.175</td> <th>  Durbin-Watson:     </th> <td>   1.985</td>\n",
       "</tr>\n",
       "<tr>\n",
       "  <th>Prob(Omnibus):</th> <td> 0.000</td> <th>  Jarque-Bera (JB):  </th> <td> 180.344</td>\n",
       "</tr>\n",
       "<tr>\n",
       "  <th>Skew:</th>          <td> 0.267</td> <th>  Prob(JB):          </th> <td>6.90e-40</td>\n",
       "</tr>\n",
       "<tr>\n",
       "  <th>Kurtosis:</th>      <td> 4.199</td> <th>  Cond. No.          </th> <td>3.38e+07</td>\n",
       "</tr>\n",
       "</table><br/><br/>Warnings:<br/>[1] Standard Errors assume that the covariance matrix of the errors is correctly specified.<br/>[2] The condition number is large, 3.38e+07. This might indicate that there are<br/>strong multicollinearity or other numerical problems."
      ],
      "text/plain": [
       "<class 'statsmodels.iolib.summary.Summary'>\n",
       "\"\"\"\n",
       "                              OLS Regression Results                             \n",
       "=================================================================================\n",
       "Dep. Variable:     Teen births raw value   R-squared:                       0.707\n",
       "Model:                               OLS   Adj. R-squared:                  0.705\n",
       "Method:                    Least Squares   F-statistic:                     250.7\n",
       "Date:                   Wed, 26 Feb 2020   Prob (F-statistic):               0.00\n",
       "Time:                           06:25:51   Log-Likelihood:                -8800.0\n",
       "No. Observations:                   2513   AIC:                         1.765e+04\n",
       "Df Residuals:                       2488   BIC:                         1.780e+04\n",
       "Df Model:                             24                                         \n",
       "Covariance Type:               nonrobust                                         \n",
       "========================================================================================================================================\n",
       "                                                                           coef    std err          t      P>|t|      [0.025      0.975]\n",
       "----------------------------------------------------------------------------------------------------------------------------------------\n",
       "const                                                                   53.7497      5.783      9.295      0.000      42.410      65.090\n",
       "Poor or fair health raw value                                          139.6183      8.527     16.373      0.000     122.897     156.339\n",
       "Low birthweight raw value                                               62.3805     11.683      5.339      0.000      39.471      85.290\n",
       "Food environment index raw value                                        -0.0187      0.209     -0.090      0.929      -0.429       0.391\n",
       "Access to exercise opportunities raw value                               2.0971      1.005      2.086      0.037       0.126       4.068\n",
       "Excessive drinking raw value                                           -38.9848      7.694     -5.067      0.000     -54.072     -23.898\n",
       "Sexually transmitted infections raw value                                0.0047      0.001      4.848      0.000       0.003       0.007\n",
       "Ratio of population to primary care physicians.                         -0.0001   7.93e-05     -1.518      0.129      -0.000    3.51e-05\n",
       "Ratio of population to mental health providers.                         -0.0001   7.43e-05     -1.636      0.102      -0.000    2.42e-05\n",
       "High school graduation raw value                                        -3.3136      2.632     -1.259      0.208      -8.474       1.847\n",
       "Some college raw value                                                 -31.3963      2.334    -13.450      0.000     -35.974     -26.819\n",
       "Unemployment raw value                                                  33.7419     13.013      2.593      0.010       8.224      59.260\n",
       "Income inequality raw value                                              0.2573      0.292      0.881      0.379      -0.316       0.830\n",
       "Children in single-parent households raw value                          11.7266      2.541      4.615      0.000       6.744      16.710\n",
       "Violent crime raw value                                                  0.0049      0.001      4.619      0.000       0.003       0.007\n",
       "Severe housing problems raw value                                      -71.8006      6.333    -11.338      0.000     -84.218     -59.383\n",
       "Percentage of households with overcrowding                             110.7567     12.748      8.688      0.000      85.759     135.754\n",
       "Percentage of households with lack of kitchen or plumbing facilities    -7.5928     13.605     -0.558      0.577     -34.270      19.085\n",
       "Insufficient sleep raw value                                           -53.2070      6.387     -8.330      0.000     -65.732     -40.682\n",
       "Ratio of population to primary care providers other than physicians.    -0.0004   8.95e-05     -3.920      0.000      -0.001      -0.000\n",
       "Population raw value                                                 -1.138e-06   5.61e-07     -2.030      0.042   -2.24e-06   -3.87e-08\n",
       "% below 18 years of age raw value                                       84.0504      6.274     13.398      0.000      71.749      96.352\n",
       "% not proficient in English raw value                                  -28.0304      7.667     -3.656      0.000     -43.065     -12.995\n",
       "% Females raw value                                                    -52.7113      8.857     -5.951      0.000     -70.079     -35.343\n",
       "% Rural raw value                                                        1.1089      0.835      1.327      0.185      -0.529       2.747\n",
       "==============================================================================\n",
       "Omnibus:                       93.175   Durbin-Watson:                   1.985\n",
       "Prob(Omnibus):                  0.000   Jarque-Bera (JB):              180.344\n",
       "Skew:                           0.267   Prob(JB):                     6.90e-40\n",
       "Kurtosis:                       4.199   Cond. No.                     3.38e+07\n",
       "==============================================================================\n",
       "\n",
       "Warnings:\n",
       "[1] Standard Errors assume that the covariance matrix of the errors is correctly specified.\n",
       "[2] The condition number is large, 3.38e+07. This might indicate that there are\n",
       "strong multicollinearity or other numerical problems.\n",
       "\"\"\""
      ]
     },
     "execution_count": 49,
     "metadata": {},
     "output_type": "execute_result"
    }
   ],
   "source": [
    "# check p-values whether the model can be imporved\n",
    "from statsmodels.formula.api import ols\n",
    "import statsmodels.api as sm\n",
    "import statsmodels.formula.api as smf\n",
    "                \n",
    "x = sm.add_constant(X_train)\n",
    "model = sm.OLS(y_train, x)\n",
    "model = model.fit()\n",
    "model.summary()"
   ]
  },
  {
   "cell_type": "code",
   "execution_count": 50,
   "metadata": {},
   "outputs": [
    {
     "name": "stdout",
     "output_type": "stream",
     "text": [
      "Top 10 interactions: []\n"
     ]
    }
   ],
   "source": [
    "# assessing whether Interactions add value\n",
    "from itertools import combinations\n",
    "combinations = list(combinations(X_train.columns, 2))\n",
    "interactions = list()\n",
    "baseline = baseline_model[\"train_score\"].mean()\n",
    "data = X_train.copy()\n",
    "\n",
    "for comb in combinations:\n",
    "    data[\"interaction\"] = data[comb[0]] * data[comb[1]]\n",
    "    score = np.mean(cross_val_score(regression, data, y_train, scoring=\"r2\", cv=crossvalidation))\n",
    "    if score > baseline: \n",
    "        interactions.append(comb[0], comb[1], round(score, 3))\n",
    "print(\"Top 10 interactions: %s\" %sorted(interactions, key=lambda inter: inter[2], reverse=True)[:10])\n",
    "\n",
    "#Why isn't this working?"
   ]
  },
  {
   "cell_type": "code",
   "execution_count": 51,
   "metadata": {},
   "outputs": [
    {
     "name": "stdout",
     "output_type": "stream",
     "text": [
      "degree 2 0.8091951088781403\n",
      "degree 3 0.7198118182126865\n",
      "degree 4 0.2751188441380683\n"
     ]
    }
   ],
   "source": [
    "for index, degree in enumerate([2, 3, 4]):\n",
    "    \n",
    "    # Instantiate PolynomialFeatures\n",
    "    poly = PolynomialFeatures(degree)\n",
    "    \n",
    "    # Fit and transform X_train\n",
    "    X_poly_train = poly.fit_transform(X_train)\n",
    "    \n",
    "    # Instantiate and fit a linear regression model to the polynomial transformed train features\n",
    "    reg_poly = LinearRegression().fit(X_poly_train, y_train)\n",
    "    \n",
    "    # Evaluate model performance on test data\n",
    "    print(\"degree %d\" % degree, reg_poly.score(X_poly_train, y_train))"
   ]
  },
  {
   "cell_type": "code",
   "execution_count": 52,
   "metadata": {},
   "outputs": [
    {
     "name": "stdout",
     "output_type": "stream",
     "text": [
      "degree 2 {'fit_time': array([0.10222411, 0.0779109 , 0.08024597, 0.07876492, 0.07972574,\n",
      "       0.07900906, 0.07501316]), 'score_time': array([0.00159001, 0.00084019, 0.00135779, 0.0010879 , 0.00124621,\n",
      "       0.0013268 , 0.00085878]), 'test_score': array([0.46970847, 0.56266516, 0.68470974, 0.63288226, 0.61056901,\n",
      "       0.63441442, 0.32711847]), 'train_score': array([0.82014658, 0.81445557, 0.82068915, 0.80841744, 0.81651606,\n",
      "       0.8122286 , 0.60302268])}\n",
      "degree 3 {'fit_time': array([8.88494086, 7.73671508, 7.85745907, 8.29048014, 7.17682695,\n",
      "       7.45637321, 7.45553017]), 'score_time': array([0.00201011, 0.00200582, 0.00204992, 0.00212097, 0.0023911 ,\n",
      "       0.00208783, 0.00206208]), 'test_score': array([-3.11469216e+00,  3.32509940e-01, -1.30078291e+02, -4.04073089e+00,\n",
      "       -9.16428546e+01, -1.13140957e-01, -3.52414619e+00]), 'train_score': array([0.76055947, 0.72759171, 0.77898625, 0.72585694, 0.75298626,\n",
      "       0.73593393, 0.74198304])}\n",
      "degree 4 {'fit_time': array([16.64003301, 13.86783814, 13.92549181, 13.39391303, 13.77316284,\n",
      "       16.57956624, 15.80418491]), 'score_time': array([0.03790092, 0.01051784, 0.00974321, 0.00976491, 0.01009107,\n",
      "       0.01537514, 0.05562878]), 'test_score': array([-4.81988215e+03, -3.63092415e-01, -3.85060480e+03, -7.83531194e+02,\n",
      "       -2.63096189e+04, -6.98348648e+00, -7.09636203e+01]), 'train_score': array([0.27231658, 0.32032789, 0.38749464, 0.37946639, 0.19750697,\n",
      "       0.40304847, 0.35831219])}\n"
     ]
    }
   ],
   "source": [
    "for index, degree in enumerate([2, 3, 4]):\n",
    "    \n",
    "    # Instantiate PolynomialFeatures\n",
    "    poly = PolynomialFeatures(degree)\n",
    "    \n",
    "    # Fit and transform X_train\n",
    "    X_poly_train = poly.fit_transform(X_train)\n",
    "    \n",
    "    # Instantiate and fit a linear regression model to the polynomial transformed train features\n",
    "    reg_poly = cross_validate(\n",
    "    regression, X_poly_train, y_train, scoring='r2', cv=crossvalidation, return_train_score = True)\n",
    "    \n",
    "    # Evaluate model performance on test data\n",
    "    print(\"degree %d\" % degree, reg_poly)"
   ]
  },
  {
   "cell_type": "code",
   "execution_count": 56,
   "metadata": {},
   "outputs": [],
   "source": [
    "y_df = clean_df['Teen births raw value']\n",
    "\n",
    "#we have y_df as the target variable and x_df as the predictors (unnormalised)"
   ]
  },
  {
   "cell_type": "code",
   "execution_count": 57,
   "metadata": {},
   "outputs": [],
   "source": [
    "# splitting the dataset into training and testing\n",
    "\n",
    "X_train, X_test, y_train, y_test = train_test_split(x_df, y_df, test_size=0.20, random_state=42)"
   ]
  },
  {
   "cell_type": "code",
   "execution_count": 58,
   "metadata": {},
   "outputs": [
    {
     "data": {
      "text/plain": [
       "{'fit_time': array([0.00433898, 0.00792098, 0.00908709, 0.00584292, 0.00540113]),\n",
       " 'score_time': array([0.001369  , 0.00268006, 0.00240588, 0.00182295, 0.00135207]),\n",
       " 'test_score': array([0.7013497 , 0.69833938, 0.70811475, 0.6555438 , 0.71340373]),\n",
       " 'train_score': array([0.70638896, 0.70899493, 0.70637842, 0.71553267, 0.70512287])}"
      ]
     },
     "execution_count": 58,
     "metadata": {},
     "output_type": "execute_result"
    }
   ],
   "source": [
    "#build a naive model baseline using unscaled linear regression\n",
    "\n",
    "crossvalidation = KFold(n_splits=5, shuffle=True, random_state=42)\n",
    "baseline_model_naive = cross_validate(\n",
    "    regression, X_train, y_train, scoring='r2', cv=crossvalidation, return_train_score = True)\n",
    "baseline_model_naive"
   ]
  },
  {
   "cell_type": "code",
   "execution_count": 59,
   "metadata": {},
   "outputs": [],
   "source": [
    "#Normalise all data\n",
    "\n",
    "ss = StandardScaler()\n",
    "X_train_scaled = ss.fit_transform(X_train)\n",
    "X_test_scaled = ss.transform(X_test)"
   ]
  },
  {
   "cell_type": "code",
   "execution_count": 60,
   "metadata": {},
   "outputs": [
    {
     "data": {
      "text/plain": [
       "{'fit_time': array([0.00326872, 0.00414824, 0.00539184, 0.00378919, 0.00420904]),\n",
       " 'score_time': array([0.00107718, 0.00118685, 0.00117707, 0.00115585, 0.00106287]),\n",
       " 'test_score': array([0.7013497 , 0.69833938, 0.70811475, 0.6555438 , 0.71340373]),\n",
       " 'train_score': array([0.70638896, 0.70899493, 0.70637842, 0.71553267, 0.70512287])}"
      ]
     },
     "execution_count": 60,
     "metadata": {},
     "output_type": "execute_result"
    }
   ],
   "source": [
    "# Build a linear regression using scaled data \n",
    "linreg_scaled = LinearRegression()\n",
    "linreg_scaled.fit(X_train_scaled, y_train)\n",
    "\n",
    "baseline_model_scaled = cross_validate(\n",
    "    linreg_scaled, X_train_scaled, y_train, scoring='r2', cv=crossvalidation, return_train_score = True)\n",
    "\n",
    "baseline_model_scaled\n",
    "\n",
    "#no difference in values between baseline_model_naive and baseline_scaled"
   ]
  },
  {
   "cell_type": "code",
   "execution_count": 61,
   "metadata": {},
   "outputs": [],
   "source": [
    "#build a 2nd order polynomial regression dataset for predictors\n",
    "\n",
    "poly = PolynomialFeatures(2)\n",
    "X_train_poly = pd.DataFrame(poly.fit_transform(X_train))\n",
    "X_test_poly = pd.DataFrame(poly.fit_transform(X_test))"
   ]
  },
  {
   "cell_type": "code",
   "execution_count": 62,
   "metadata": {},
   "outputs": [
    {
     "data": {
      "text/plain": [
       "{'fit_time': array([0.06583118, 0.05786276, 0.08754301, 0.08506179, 0.07881784]),\n",
       " 'score_time': array([0.00222588, 0.00219011, 0.00333714, 0.00216317, 0.00560403]),\n",
       " 'test_score': array([0.36840132, 0.59466626, 0.65290234, 0.66064205, 0.67957219]),\n",
       " 'train_score': array([0.82618619, 0.82564044, 0.79757733, 0.81831148, 0.81548958])}"
      ]
     },
     "execution_count": 62,
     "metadata": {},
     "output_type": "execute_result"
    }
   ],
   "source": [
    "#build a linear regression using polynomial data (unscaled)\n",
    "\n",
    "linreg_poly = LinearRegression()\n",
    "linreg_poly.fit(X_train_poly, y_train)\n",
    "\n",
    "baseline_model_poly = cross_validate(\n",
    "    linreg_poly, X_train_poly, y_train, scoring='r2', cv=crossvalidation, return_train_score = True)\n",
    "\n",
    "baseline_model_poly\n",
    "\n",
    "#massively over fitting\n"
   ]
  },
  {
   "cell_type": "code",
   "execution_count": 63,
   "metadata": {},
   "outputs": [],
   "source": [
    "#Normalise all polynomial data\n",
    "ss = StandardScaler()\n",
    "X_train_poly_scaled = ss.fit_transform(X_train_poly)\n",
    "X_test_poly_scaled = ss.transform(X_test_poly)"
   ]
  },
  {
   "cell_type": "code",
   "execution_count": 109,
   "metadata": {},
   "outputs": [
    {
     "name": "stdout",
     "output_type": "stream",
     "text": [
      "Lasso alpha = 0\n",
      "\n",
      "Lasso train score = 0.827\n",
      "\n",
      "Lasso test score = 0.582\n",
      "\n",
      "Lasso alpha = 1\n",
      "\n",
      "Lasso train score = 0.732\n",
      "\n",
      "Lasso test score = 0.46\n",
      "\n",
      "Lasso alpha = 2\n",
      "\n",
      "Lasso train score = 0.725\n",
      "\n",
      "Lasso test score = 0.437\n",
      "\n",
      "Lasso alpha = 3\n",
      "\n",
      "Lasso train score = 0.72\n",
      "\n",
      "Lasso test score = 0.425\n",
      "\n",
      "Lasso alpha = 4\n",
      "\n",
      "Lasso train score = 0.716\n",
      "\n",
      "Lasso test score = 0.416\n",
      "\n",
      "Lasso alpha = 5\n",
      "\n",
      "Lasso train score = 0.713\n",
      "\n",
      "Lasso test score = 0.409\n",
      "\n",
      "Lasso alpha = 6\n",
      "\n",
      "Lasso train score = 0.71\n",
      "\n",
      "Lasso test score = 0.405\n",
      "\n",
      "Lasso alpha = 7\n",
      "\n",
      "Lasso train score = 0.708\n",
      "\n",
      "Lasso test score = 0.398\n",
      "\n",
      "Lasso alpha = 8\n",
      "\n",
      "Lasso train score = 0.705\n",
      "\n",
      "Lasso test score = 0.392\n",
      "\n",
      "Lasso alpha = 9\n",
      "\n",
      "Lasso train score = 0.702\n",
      "\n",
      "Lasso test score = 0.386\n",
      "\n"
     ]
    }
   ],
   "source": [
    "lasso_poly_train = []\n",
    "lasso_poly_test = []\n",
    "alphas = []\n",
    "\n",
    "for alpha in range(0,10):\n",
    "\n",
    "    lasso = Lasso(alpha) \n",
    "    lasso.fit(X_train_poly, y_train)\n",
    "\n",
    "    lasso_model_poly = cross_validate(\n",
    "    lasso, X_train_poly, y_train, scoring='r2', cv=crossvalidation, return_train_score = True)\n",
    "\n",
    "    print(f\"Lasso alpha = {lasso.alpha}\")\n",
    "    alphas.append(alpha)\n",
    "    print()\n",
    "    print(f'Lasso train score = {round(lasso_model_poly[\"train_score\"].mean(),3)}')\n",
    "    lasso_poly_train.append(round(lasso_model_poly[\"train_score\"].mean(),3))\n",
    "    print()\n",
    "    print(f'Lasso test score = {round(lasso_model_poly[\"test_score\"].mean(),3)}')\n",
    "    lasso_poly_test.append(round(lasso_model_poly[\"test_score\"].mean(),3))\n",
    "    print()\n",
    "\n"
   ]
  },
  {
   "cell_type": "code",
   "execution_count": 110,
   "metadata": {},
   "outputs": [
    {
     "data": {
      "image/png": "[encoded data removed]",
      "text/plain": [
       "<Figure size 720x432 with 1 Axes>"
      ]
     },
     "metadata": {
      "needs_background": "light"
     },
     "output_type": "display_data"
    }
   ],
   "source": [
    "fig, ax = plt.subplots(figsize=(10,6))\n",
    "optimal_alpha = 1\n",
    "\n",
    "ax.plot(alphas, lasso_poly_train, label='Train')\n",
    "ax.plot(alphas, lasso_poly_test, label='Test')\n",
    "ax.set_xlabel('Alpha')\n",
    "ax.set_ylabel('R^2')\n",
    "ax = plt.gca()\n",
    "ax.set_facecolor('xkcd:white')\n",
    "ax.axvline(optimal_alpha, color='black', linestyle='--')\n",
    "ax.legend();\n",
    "\n"
   ]
  },
  {
   "cell_type": "code",
   "execution_count": 113,
   "metadata": {},
   "outputs": [
    {
     "name": "stdout",
     "output_type": "stream",
     "text": [
      "Lasso alpha = 0.0\n",
      "\n",
      "Lasso train score = 0.827\n",
      "\n",
      "Lasso test score = 0.582\n",
      "\n",
      "Lasso alpha = 0.1\n",
      "\n",
      "Lasso train score = 0.768\n",
      "\n",
      "Lasso test score = 0.65\n",
      "\n",
      "Lasso alpha = 0.2\n",
      "\n",
      "Lasso train score = 0.757\n",
      "\n",
      "Lasso test score = 0.612\n",
      "\n",
      "Lasso alpha = 0.30000000000000004\n",
      "\n",
      "Lasso train score = 0.754\n",
      "\n",
      "Lasso test score = 0.59\n",
      "\n",
      "Lasso alpha = 0.4\n",
      "\n",
      "Lasso train score = 0.75\n",
      "\n",
      "Lasso test score = 0.568\n",
      "\n",
      "Lasso alpha = 0.5\n",
      "\n",
      "Lasso train score = 0.745\n",
      "\n",
      "Lasso test score = 0.542\n",
      "\n",
      "Lasso alpha = 0.6000000000000001\n",
      "\n",
      "Lasso train score = 0.74\n",
      "\n",
      "Lasso test score = 0.514\n",
      "\n",
      "Lasso alpha = 0.7000000000000001\n",
      "\n",
      "Lasso train score = 0.736\n",
      "\n",
      "Lasso test score = 0.49\n",
      "\n",
      "Lasso alpha = 0.8\n",
      "\n",
      "Lasso train score = 0.734\n",
      "\n",
      "Lasso test score = 0.478\n",
      "\n",
      "Lasso alpha = 0.9\n",
      "\n",
      "Lasso train score = 0.733\n",
      "\n",
      "Lasso test score = 0.467\n",
      "\n",
      "Lasso alpha = 1.0\n",
      "\n",
      "Lasso train score = 0.732\n",
      "\n",
      "Lasso test score = 0.46\n",
      "\n"
     ]
    }
   ],
   "source": [
    "lasso_poly_train_decimal = []\n",
    "lasso_poly_test_decimal = []\n",
    "alphas_decimal = []\n",
    "\n",
    "for alpha in np.linspace(0, 1, num=11):\n",
    "\n",
    "    lasso = Lasso(alpha) \n",
    "    lasso.fit(X_train_poly, y_train)\n",
    "\n",
    "    lasso_model_poly = cross_validate(\n",
    "    lasso, X_train_poly, y_train, scoring='r2', cv=crossvalidation, return_train_score = True)\n",
    "\n",
    "    print(f\"Lasso alpha = {lasso.alpha}\")\n",
    "    alphas_decimal.append(alpha)\n",
    "    print()\n",
    "    print(f'Lasso train score = {round(lasso_model_poly[\"train_score\"].mean(),3)}')\n",
    "    lasso_poly_train_decimal.append(round(lasso_model_poly[\"train_score\"].mean(),3))\n",
    "    print()\n",
    "    print(f'Lasso test score = {round(lasso_model_poly[\"test_score\"].mean(),3)}')\n",
    "    lasso_poly_test_decimal.append(round(lasso_model_poly[\"test_score\"].mean(),3))\n",
    "    print()"
   ]
  },
  {
   "cell_type": "code",
   "execution_count": 118,
   "metadata": {},
   "outputs": [
    {
     "data": {
      "image/png": "[encoded data removed]",
      "text/plain": [
       "<Figure size 720x432 with 1 Axes>"
      ]
     },
     "metadata": {
      "needs_background": "light"
     },
     "output_type": "display_data"
    }
   ],
   "source": [
    "fig, ax = plt.subplots(figsize=(10,6))\n",
    "optimal_alpha = 0.1\n",
    "ax.plot(alphas_decimal, lasso_poly_train_decimal, label='Train')\n",
    "ax.plot(alphas_decimal, lasso_poly_test_decimal, label='Test')\n",
    "ax.set_xlabel('Alpha')\n",
    "ax.set_ylabel('R^2')\n",
    "ax = plt.gca()\n",
    "ax.set_facecolor('xkcd:white')\n",
    "ax.axvline(optimal_alpha, color='black', linestyle='--')\n",
    "ax.legend();"
   ]
  },
  {
   "cell_type": "code",
   "execution_count": 120,
   "metadata": {},
   "outputs": [
    {
     "name": "stdout",
     "output_type": "stream",
     "text": [
      "Ridge alpha = 0\n",
      "\n",
      "Ridge train score = 0.814\n",
      "\n",
      "Ridge test score = 0.412\n",
      "\n",
      "Ridge alpha = 1\n",
      "\n",
      "Ridge train score = 0.795\n",
      "\n",
      "Ridge test score = 0.695\n",
      "\n",
      "Ridge alpha = 2\n",
      "\n",
      "Ridge train score = 0.793\n",
      "\n",
      "Ridge test score = 0.694\n",
      "\n",
      "Ridge alpha = 3\n",
      "\n",
      "Ridge train score = 0.792\n",
      "\n",
      "Ridge test score = 0.693\n",
      "\n",
      "Ridge alpha = 4\n",
      "\n",
      "Ridge train score = 0.791\n",
      "\n",
      "Ridge test score = 0.692\n",
      "\n",
      "Ridge alpha = 5\n",
      "\n",
      "Ridge train score = 0.79\n",
      "\n",
      "Ridge test score = 0.691\n",
      "\n",
      "Ridge alpha = 6\n",
      "\n",
      "Ridge train score = 0.789\n",
      "\n",
      "Ridge test score = 0.69\n",
      "\n",
      "Ridge alpha = 7\n",
      "\n",
      "Ridge train score = 0.789\n",
      "\n",
      "Ridge test score = 0.688\n",
      "\n",
      "Ridge alpha = 8\n",
      "\n",
      "Ridge train score = 0.788\n",
      "\n",
      "Ridge test score = 0.687\n",
      "\n",
      "Ridge alpha = 9\n",
      "\n",
      "Ridge train score = 0.787\n",
      "\n",
      "Ridge test score = 0.686\n",
      "\n"
     ]
    }
   ],
   "source": [
    "ridge_poly_train = []\n",
    "ridge_poly_test = []\n",
    "alphas = []\n",
    "\n",
    "for alpha in range(0,10):\n",
    "\n",
    "    ridge = Ridge(alpha) \n",
    "    ridge.fit(X_train_poly, y_train)\n",
    "\n",
    "    ridge_model_poly = cross_validate(\n",
    "    ridge, X_train_poly, y_train, scoring='r2', cv=crossvalidation, return_train_score = True)\n",
    "\n",
    "    print(f\"Ridge alpha = {ridge.alpha}\")\n",
    "    alphas.append(alpha)\n",
    "    print()\n",
    "    print(f'Ridge train score = {round(ridge_model_poly[\"train_score\"].mean(),3)}')\n",
    "    ridge_poly_train.append(round(ridge_model_poly[\"train_score\"].mean(),3))\n",
    "    print()\n",
    "    print(f'Ridge test score = {round(ridge_model_poly[\"test_score\"].mean(),3)}')\n",
    "    ridge_poly_test.append(round(ridge_model_poly[\"test_score\"].mean(),3))\n",
    "    print()\n"
   ]
  },
  {
   "cell_type": "code",
   "execution_count": 123,
   "metadata": {},
   "outputs": [
    {
     "data": {
      "image/png": "[encoded data removed]",
      "text/plain": [
       "<Figure size 720x432 with 1 Axes>"
      ]
     },
     "metadata": {
      "needs_background": "light"
     },
     "output_type": "display_data"
    }
   ],
   "source": [
    "fig, ax = plt.subplots(figsize=(10,6))\n",
    "optimal_alpha = 1\n",
    "ax.plot(alphas, ridge_poly_train, label='Train')\n",
    "ax.plot(alphas, ridge_poly_test, label='Test')\n",
    "ax.set_xlabel('Alpha')\n",
    "ax.set_ylabel('R^2')\n",
    "ax = plt.gca()\n",
    "ax.set_facecolor('xkcd:white')\n",
    "ax.axvline(optimal_alpha, color='black', linestyle='--')\n",
    "ax.legend();"
   ]
  },
  {
   "cell_type": "code",
   "execution_count": 128,
   "metadata": {},
   "outputs": [
    {
     "name": "stdout",
     "output_type": "stream",
     "text": [
      "Ridge alpha = 0.0\n",
      "\n",
      "Ridge train score = 0.814\n",
      "\n",
      "Ridge test score = 0.412\n",
      "\n",
      "Ridge alpha = 0.1\n",
      "\n",
      "Ridge train score = 0.804\n",
      "\n",
      "Ridge test score = 0.683\n",
      "\n",
      "Ridge alpha = 0.2\n",
      "\n",
      "Ridge train score = 0.801\n",
      "\n",
      "Ridge test score = 0.688\n",
      "\n",
      "Ridge alpha = 0.30000000000000004\n",
      "\n",
      "Ridge train score = 0.8\n",
      "\n",
      "Ridge test score = 0.69\n",
      "\n",
      "Ridge alpha = 0.4\n",
      "\n",
      "Ridge train score = 0.799\n",
      "\n",
      "Ridge test score = 0.692\n",
      "\n",
      "Ridge alpha = 0.5\n",
      "\n",
      "Ridge train score = 0.798\n",
      "\n",
      "Ridge test score = 0.693\n",
      "\n",
      "Ridge alpha = 0.6000000000000001\n",
      "\n",
      "Ridge train score = 0.797\n",
      "\n",
      "Ridge test score = 0.693\n",
      "\n",
      "Ridge alpha = 0.7000000000000001\n",
      "\n",
      "Ridge train score = 0.797\n",
      "\n",
      "Ridge test score = 0.694\n",
      "\n",
      "Ridge alpha = 0.8\n",
      "\n",
      "Ridge train score = 0.796\n",
      "\n",
      "Ridge test score = 0.694\n",
      "\n",
      "Ridge alpha = 0.9\n",
      "\n",
      "Ridge train score = 0.796\n",
      "\n",
      "Ridge test score = 0.694\n",
      "\n",
      "Ridge alpha = 1.0\n",
      "\n",
      "Ridge train score = 0.795\n",
      "\n",
      "Ridge test score = 0.695\n",
      "\n"
     ]
    }
   ],
   "source": [
    "ridge_poly_train_decimal = []\n",
    "ridge_poly_test_decimal = []\n",
    "alphas_decimal = []\n",
    "\n",
    "for alpha in np.linspace(0, 1, num=11):\n",
    "\n",
    "    ridge = Ridge(alpha) \n",
    "    lasso.fit(X_train_poly, y_train)\n",
    "\n",
    "    ridge_model_poly = cross_validate(\n",
    "    ridge, X_train_poly, y_train, scoring='r2', cv=crossvalidation, return_train_score = True)\n",
    "\n",
    "    print(f\"Ridge alpha = {ridge.alpha}\")\n",
    "    alphas_decimal.append(alpha)\n",
    "    print()\n",
    "    print(f'Ridge train score = {round(ridge_model_poly[\"train_score\"].mean(),3)}')\n",
    "    ridge_poly_train_decimal.append(round(ridge_model_poly[\"train_score\"].mean(),3))\n",
    "    print()\n",
    "    print(f'Ridge test score = {round(ridge_model_poly[\"test_score\"].mean(),3)}')\n",
    "    ridge_poly_test_decimal.append(round(ridge_model_poly[\"test_score\"].mean(),3))\n",
    "    print()"
   ]
  },
  {
   "cell_type": "code",
   "execution_count": 130,
   "metadata": {},
   "outputs": [
    {
     "data": {
      "image/png": "[encoded data removed]",
      "text/plain": [
       "<Figure size 720x432 with 1 Axes>"
      ]
     },
     "metadata": {
      "needs_background": "light"
     },
     "output_type": "display_data"
    }
   ],
   "source": [
    "fig, ax = plt.subplots(figsize=(10,6))\n",
    "optimal_alpha = 0.1\n",
    "ax.plot(alphas_decimal, ridge_poly_train_decimal, label='Train')\n",
    "ax.plot(alphas_decimal, ridge_poly_test_decimal, label='Test')\n",
    "ax.set_xlabel('Alpha')\n",
    "ax.set_ylabel('R^2')\n",
    "ax = plt.gca()\n",
    "ax.set_facecolor('xkcd:white')\n",
    "ax.axvline(optimal_alpha, color='black', linestyle='--')\n",
    "ax.legend();"
   ]
  },
  {
   "cell_type": "code",
   "execution_count": null,
   "metadata": {},
   "outputs": [],
   "source": []
  }
 ],
 "metadata": {
  "kernelspec": {
   "display_name": "Python 3",
   "language": "python",
   "name": "python3"
  },
  "language_info": {
   "codemirror_mode": {
    "name": "ipython",
    "version": 3
   },
   "file_extension": ".py",
   "mimetype": "text/x-python",
   "name": "python",
   "nbconvert_exporter": "python",
   "pygments_lexer": "ipython3",
   "version": "3.6.6"
  }
 },
 "nbformat": 4,
 "nbformat_minor": 4
}
