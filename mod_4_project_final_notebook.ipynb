{
 "cells": [
  {
   "cell_type": "markdown",
   "metadata": {},
   "source": [
    "# Teen Age Pregnancy Rates Data Modeling Study"
   ]
  },
  {
   "cell_type": "markdown",
   "metadata": {},
   "source": [
    "## Imports and data ingestion"
   ]
  },
  {
   "cell_type": "code",
   "execution_count": 4,
   "metadata": {},
   "outputs": [],
   "source": [
    "#loading imports\n",
    "\n",
    "import pandas as pd\n",
    "import seaborn as sns\n",
    "import numpy as np\n",
    "import notebook_toolkit as nt\n",
    "import matplotlib.pyplot as plt\n",
    "import plotly.figure_factory as ff\n",
    "import seaborn as sns\n",
    "sns.set_style('darkgrid')\n",
    "import statsmodels.api as sm\n",
    "import scipy.stats as stats\n",
    "from sklearn.model_selection import train_test_split\n",
    "from itertools import combinations, product\n",
    "from sklearn.model_selection import KFold,cross_val_predict,cross_val_score, cross_validate\n",
    "from sklearn.linear_model import LinearRegression, Ridge, Lasso\n",
    "from sklearn.preprocessing import StandardScaler\n",
    "from sklearn.metrics import r2_score\n",
    "from sklearn.preprocessing import PolynomialFeatures\n",
    "import pylab as py \n",
    "\n",
    "#setting environment, importing helper scripts and variables\n",
    "\n",
    "%matplotlib inline\n",
    "nt.set_environment()\n",
    "%run variables.py\n",
    "\n",
    "#importing data\n",
    "raw_df = pd.read_csv(\"analytic_data2019.csv\")"
   ]
  },
  {
   "cell_type": "markdown",
   "metadata": {},
   "source": [
    "# Data Cleanup"
   ]
  },
  {
   "cell_type": "code",
   "execution_count": 5,
   "metadata": {},
   "outputs": [],
   "source": [
    "#function to remove columns from the dataframe that are not needed for analysis based on keywords\n",
    "\n",
    "working_df = nt.drop_column_keyword_search(raw_df, keywords)"
   ]
  },
  {
   "cell_type": "code",
   "execution_count": 6,
   "metadata": {},
   "outputs": [],
   "source": [
    "#function to identify and drop columns with more than 10% of their data missing\n",
    "\n",
    "ten_percent_missing_values_columns = nt.column_null_percentage(working_df)\n",
    "working_df = working_df.drop(columns = ten_percent_missing_values_columns.index)\n",
    "working_df = working_df.drop(0)"
   ]
  },
  {
   "cell_type": "code",
   "execution_count": 11,
   "metadata": {},
   "outputs": [],
   "source": [
    "#converting non-categorical variables to floats and ensuring that categorical variables are strings\n",
    "\n",
    "string_datatype_df = working_df.iloc[:, 0:4]\n",
    "float_datatype_df = working_df.iloc[:, 5:].astype(float)\n",
    "working_df = pd.concat([string_datatype_df, float_datatype_df], axis = 1)"
   ]
  },
  {
   "cell_type": "code",
   "execution_count": 12,
   "metadata": {},
   "outputs": [],
   "source": [
    "#create a new data frame for data at the state and national level and make sure it is indexed correctly\n",
    "\n",
    "non_county_df = working_df[working_df[ranked].isnull()]\n",
    "non_county_df.reset_index(inplace = True)\n",
    "del non_county_df[\"index\"], non_county_df[ranked]"
   ]
  },
  {
   "cell_type": "code",
   "execution_count": 13,
   "metadata": {},
   "outputs": [],
   "source": [
    "#create a new data frame for data at the county level and make sure it is indexed correctly\n",
    "\n",
    "county_level_df = working_df[working_df[ranked].notnull()]\n",
    "county_level_df.reset_index(inplace = True)\n",
    "del county_level_df[\"index\"], county_level_df[ranked]"
   ]
  },
  {
   "cell_type": "code",
   "execution_count": 14,
   "metadata": {},
   "outputs": [],
   "source": [
    "#fill missing data in the county level dataframe with the columns median values\n",
    "\n",
    "county_level_df = county_level_df.fillna(county_level_df.median())"
   ]
  },
  {
   "cell_type": "code",
   "execution_count": 15,
   "metadata": {},
   "outputs": [],
   "source": [
    "#fill missing data in the non-county level dataframe with the column median values\n",
    "\n",
    "non_county_df[free_lunch] = non_county_df[free_lunch].fillna(non_county_df[free_lunch].median())"
   ]
  },
  {
   "cell_type": "code",
   "execution_count": 10,
   "metadata": {},
   "outputs": [],
   "source": [
    "#delete irrelavent columns from non-county level dataframe\n",
    "\n",
    "del non_county_df[housing_costs], non_county_df[overcrowding]\n",
    "del non_county_df[facilities], non_county_df[release_year]"
   ]
  },
  {
   "cell_type": "code",
   "execution_count": 10,
   "metadata": {},
   "outputs": [],
   "source": [
    "#fill in isolated missing values in the non-county level dataframe\n",
    "\n",
    "non_county_df.iloc[2,35] = non_county_df.iloc[:,35].median()\n",
    "non_county_df.iloc[12,35] = non_county_df.iloc[:,35].median()\n",
    "non_county_df.iloc[12,36] = non_county_df.iloc[:,36].median()\n",
    "non_county_df = non_county_df.fillna(non_county_df.mean())"
   ]
  },
  {
   "cell_type": "code",
   "execution_count": 11,
   "metadata": {},
   "outputs": [],
   "source": [
    "#create a national level and state level dataframe. We only used the country level dataframe in the analysis\n",
    "\n",
    "national_level_df = non_county_df.iloc[0]\n",
    "state_level_df = non_county_df.iloc[1:,:]"
   ]
  },
  {
   "cell_type": "code",
   "execution_count": 16,
   "metadata": {},
   "outputs": [],
   "source": [
    "#create and EDA dataframe from county level and drop more irrelavent columns\n",
    "\n",
    "eda_df = county_level_df.copy()\n",
    "eda_df = eda_df.drop(columns = ['Drinking water violations raw value', '% Asian raw value'])"
   ]
  },
  {
   "cell_type": "code",
   "execution_count": 17,
   "metadata": {},
   "outputs": [],
   "source": [
    "#function to return a list of columns that correlate greater the 0.75 so that they can be removed to avoid colinearity\n",
    "\n",
    "to_drop = nt.multicolinear_drop(eda_df)"
   ]
  },
  {
   "cell_type": "code",
   "execution_count": 18,
   "metadata": {},
   "outputs": [],
   "source": [
    "#drop coliear features from the EDA dataframe\n",
    "\n",
    "eda_df = eda_df.drop(eda_df[to_drop], axis =1)"
   ]
  },
  {
   "cell_type": "code",
   "execution_count": 19,
   "metadata": {},
   "outputs": [],
   "source": [
    "#create a clean_df that contains features that have been manually chosen to be part of the analysis\n",
    "\n",
    "clean_df = eda_df[features]"
   ]
  },
  {
   "cell_type": "markdown",
   "metadata": {},
   "source": [
    "# Modeling"
   ]
  },
  {
   "cell_type": "code",
   "execution_count": 23,
   "metadata": {},
   "outputs": [],
   "source": [
    "#create a dataframe of non-categorical predictor variables for our model\n",
    "\n",
    "x_df = clean_df.drop(columns = ['Teen births raw value',\n",
    "                                'State FIPS Code', \n",
    "                                'County FIPS Code', \n",
    "                                '5-digit FIPS Code',\n",
    "                                'State Abbreviation'])"
   ]
  },
  {
   "cell_type": "code",
   "execution_count": 24,
   "metadata": {},
   "outputs": [],
   "source": [
    "#create a dataframe of the target variable for our model\n",
    "\n",
    "y_df = clean_df['Teen births raw value']\n"
   ]
  },
  {
   "cell_type": "code",
   "execution_count": 25,
   "metadata": {},
   "outputs": [],
   "source": [
    "# splitting the dataset into training and testing sets, ensuring we have at least 1,000 rows in our test dataset\n",
    "\n",
    "X_train, X_test, y_train, y_test = train_test_split(x_df, y_df, test_size=0.35, random_state=42)"
   ]
  },
  {
   "cell_type": "code",
   "execution_count": 27,
   "metadata": {},
   "outputs": [
    {
     "data": {
      "text/plain": [
       "{'fit_time': array([0.03583884, 0.00995922, 0.00687218, 0.00572896, 0.00408506,\n",
       "        0.00420284, 0.00367689]),\n",
       " 'score_time': array([0.00303698, 0.00283813, 0.00304508, 0.00312614, 0.00137901,\n",
       "        0.0016892 , 0.00136113]),\n",
       " 'test_score': array([0.68049585, 0.68074466, 0.72255543, 0.71589002, 0.6854858 ,\n",
       "        0.70126346, 0.71068984]),\n",
       " 'train_score': array([0.71554074, 0.71679552, 0.71044232, 0.71059558, 0.7164024 ,\n",
       "        0.71340629, 0.71157067])}"
      ]
     },
     "execution_count": 27,
     "metadata": {},
     "output_type": "execute_result"
    }
   ],
   "source": [
    "#create a simple baseline model using a simple linear regression and K Fold cross validation  (7 folds) \n",
    "\n",
    "regression = LinearRegression()\n",
    "\n",
    "crossvalidation = KFold(n_splits=7, shuffle=True, random_state=42)\n",
    "baseline_model = cross_validate(\n",
    "    regression, X_train, y_train, scoring='r2', cv=crossvalidation, return_train_score = True)\n",
    "baseline_model"
   ]
  },
  {
   "cell_type": "code",
   "execution_count": 29,
   "metadata": {},
   "outputs": [
    {
     "name": "stdout",
     "output_type": "stream",
     "text": [
      "degree 2 0.8154513940007526\n",
      "degree 3 0.7303824247848552\n",
      "degree 4 0.04525919103937959\n"
     ]
    }
   ],
   "source": [
    "#our linear model has room to grow, so we test the improvements in R^2 that can be gained by using interactions \n",
    "#and polynomial terms from order 2 - order 4. The model below uses a simple regresion baseed on a simple regression\n",
    "#as opposed to using cross_validate. This is intentional for simplicity\n",
    "\n",
    "for index, degree in enumerate([2, 3, 4]):\n",
    "    \n",
    "    # Instantiate PolynomialFeatures\n",
    "    poly = PolynomialFeatures(degree)\n",
    "    \n",
    "    # Fit and transform X_train\n",
    "    X_poly_train = poly.fit_transform(X_train)\n",
    "    \n",
    "    # Instantiate and fit a linear regression model to the polynomial transformed train features\n",
    "    reg_poly = LinearRegression().fit(X_poly_train, y_train)\n",
    "    \n",
    "    # Evaluate model performance on test data\n",
    "    print(\"degree %d\" % degree, reg_poly.score(X_poly_train, y_train))"
   ]
  },
  {
   "cell_type": "markdown",
   "metadata": {},
   "source": [
    "As can be seen above there is an improvement that can be made by using 2nd order polynomial termsm but there is a sharp drop off in performance above that. Let's try making polynomial terms and see what happens."
   ]
  },
  {
   "cell_type": "code",
   "execution_count": 31,
   "metadata": {},
   "outputs": [],
   "source": [
    "#Normalise all data for use in more advanced models\n",
    "\n",
    "ss = StandardScaler()\n",
    "X_train_scaled = ss.fit_transform(X_train)\n",
    "X_test_scaled = ss.transform(X_test)"
   ]
  },
  {
   "cell_type": "code",
   "execution_count": 33,
   "metadata": {},
   "outputs": [
    {
     "data": {
      "text/plain": [
       "{'fit_time': array([0.00417805, 0.00419188, 0.00510716, 0.00327802, 0.00333905,\n",
       "        0.00602293, 0.01580095]),\n",
       " 'score_time': array([0.00118113, 0.00092411, 0.00107169, 0.00133014, 0.00093508,\n",
       "        0.00115418, 0.00153494]),\n",
       " 'test_score': array([0.68049585, 0.68074466, 0.72255543, 0.71589002, 0.6854858 ,\n",
       "        0.70126346, 0.71068984]),\n",
       " 'train_score': array([0.71554074, 0.71679552, 0.71044232, 0.71059558, 0.7164024 ,\n",
       "        0.71340629, 0.71157067])}"
      ]
     },
     "execution_count": 33,
     "metadata": {},
     "output_type": "execute_result"
    }
   ],
   "source": [
    "# Build a linear regression using scaled data to see if it differs from unscaled?\n",
    "#The answer is not really for linear regression\n",
    "\n",
    "linreg_scaled = LinearRegression()\n",
    "linreg_scaled.fit(X_train_scaled, y_train)\n",
    "\n",
    "baseline_model_scaled = cross_validate(\n",
    "    linreg_scaled, X_train_scaled, y_train, scoring='r2', cv=crossvalidation, return_train_score = True)\n",
    "\n",
    "baseline_model_scaled\n"
   ]
  },
  {
   "cell_type": "code",
   "execution_count": 36,
   "metadata": {},
   "outputs": [],
   "source": [
    "#build a 2nd order polynomial regression dataset for predictors\n",
    "\n",
    "poly = PolynomialFeatures(2)\n",
    "X_train_poly = pd.DataFrame(poly.fit_transform(X_train))\n",
    "X_test_poly = pd.DataFrame(poly.fit_transform(X_test))"
   ]
  },
  {
   "cell_type": "code",
   "execution_count": 37,
   "metadata": {},
   "outputs": [
    {
     "data": {
      "text/plain": [
       "{'fit_time': array([0.06564212, 0.0538559 , 0.05559492, 0.05120707, 0.05454183,\n",
       "        0.05370903, 0.05573988]),\n",
       " 'score_time': array([0.00395799, 0.0025661 , 0.00219083, 0.00216484, 0.00253105,\n",
       "        0.0020659 , 0.00217485]),\n",
       " 'test_score': array([0.22551321, 0.61795243, 0.00959689, 0.47642144, 0.59486336,\n",
       "        0.61903698, 0.43547553]),\n",
       " 'train_score': array([0.82493316, 0.82708215, 0.80300283, 0.82367753, 0.81348019,\n",
       "        0.75261332, 0.7947276 ])}"
      ]
     },
     "execution_count": 37,
     "metadata": {},
     "output_type": "execute_result"
    }
   ],
   "source": [
    "#build a linear regression using polynomial data \n",
    "\n",
    "linreg_poly = LinearRegression()\n",
    "linreg_poly.fit(X_train_poly, y_train)\n",
    "\n",
    "baseline_model_poly = cross_validate(\n",
    "    linreg_poly, X_train_poly, y_train, scoring='r2', cv=crossvalidation, return_train_score = True)\n",
    "\n",
    "baseline_model_poly"
   ]
  },
  {
   "cell_type": "markdown",
   "metadata": {},
   "source": [
    "As can be seen this is massively overfitting, so lets try more advanced models (Ridge and Lasso) to see if we can get better results"
   ]
  },
  {
   "cell_type": "code",
   "execution_count": 38,
   "metadata": {},
   "outputs": [],
   "source": [
    "#Normalise all polynomial data\n",
    "\n",
    "ss = StandardScaler()\n",
    "X_train_poly_scaled = ss.fit_transform(X_train_poly)\n",
    "X_test_poly_scaled = ss.transform(X_test_poly)"
   ]
  },
  {
   "cell_type": "markdown",
   "metadata": {},
   "source": [
    "## Lasso Regression"
   ]
  },
  {
   "cell_type": "code",
   "execution_count": 39,
   "metadata": {},
   "outputs": [
    {
     "name": "stdout",
     "output_type": "stream",
     "text": [
      "Lasso alpha = 0\n",
      "\n",
      "Lasso train score = 0.833\n",
      "\n",
      "Lasso test score = 0.549\n",
      "\n",
      "Lasso alpha = 1\n",
      "\n",
      "Lasso train score = 0.734\n",
      "\n",
      "Lasso test score = 0.305\n",
      "\n",
      "Lasso alpha = 2\n",
      "\n",
      "Lasso train score = 0.729\n",
      "\n",
      "Lasso test score = 0.275\n",
      "\n",
      "Lasso alpha = 3\n",
      "\n",
      "Lasso train score = 0.725\n",
      "\n",
      "Lasso test score = 0.261\n",
      "\n",
      "Lasso alpha = 4\n",
      "\n",
      "Lasso train score = 0.721\n",
      "\n",
      "Lasso test score = 0.258\n",
      "\n",
      "Lasso alpha = 5\n",
      "\n",
      "Lasso train score = 0.718\n",
      "\n",
      "Lasso test score = 0.256\n",
      "\n",
      "Lasso alpha = 6\n",
      "\n",
      "Lasso train score = 0.715\n",
      "\n",
      "Lasso test score = 0.251\n",
      "\n",
      "Lasso alpha = 7\n",
      "\n",
      "Lasso train score = 0.713\n",
      "\n",
      "Lasso test score = 0.242\n",
      "\n",
      "Lasso alpha = 8\n",
      "\n",
      "Lasso train score = 0.71\n",
      "\n",
      "Lasso test score = 0.228\n",
      "\n",
      "Lasso alpha = 9\n",
      "\n",
      "Lasso train score = 0.707\n",
      "\n",
      "Lasso test score = 0.211\n",
      "\n"
     ]
    }
   ],
   "source": [
    "#run Lasso regressions incrementally using alpha's from 1 - 9 to see performance and output results\n",
    "\n",
    "lasso_poly_train = []\n",
    "lasso_poly_test = []\n",
    "alphas = []\n",
    "\n",
    "for alpha in range(0,10):\n",
    "\n",
    "    lasso = Lasso(alpha) \n",
    "    lasso.fit(X_train_poly, y_train)\n",
    "\n",
    "    lasso_model_poly = cross_validate(\n",
    "    lasso, X_train_poly, y_train, scoring='r2', cv=crossvalidation, return_train_score = True)\n",
    "\n",
    "    print(f\"Lasso alpha = {lasso.alpha}\")\n",
    "    alphas.append(alpha)\n",
    "    print()\n",
    "    print(f'Lasso train score = {round(lasso_model_poly[\"train_score\"].mean(),3)}')\n",
    "    lasso_poly_train.append(round(lasso_model_poly[\"train_score\"].mean(),3))\n",
    "    print()\n",
    "    print(f'Lasso test score = {round(lasso_model_poly[\"test_score\"].mean(),3)}')\n",
    "    lasso_poly_test.append(round(lasso_model_poly[\"test_score\"].mean(),3))\n",
    "    print()\n",
    "\n"
   ]
  },
  {
   "cell_type": "code",
   "execution_count": 40,
   "metadata": {},
   "outputs": [
    {
     "data": {
      "image/png": "[encoded data removed]",
      "text/plain": [
       "<Figure size 720x432 with 1 Axes>"
      ]
     },
     "metadata": {
      "needs_background": "light"
     },
     "output_type": "display_data"
    }
   ],
   "source": [
    "#plot the output of the Lasso test\n",
    "\n",
    "fig, ax = plt.subplots(figsize=(10,6))\n",
    "optimal_alpha = 0\n",
    "\n",
    "ax.plot(alphas, lasso_poly_train, label='Train')\n",
    "ax.plot(alphas, lasso_poly_test, label='Test')\n",
    "ax.set_xlabel('Alpha')\n",
    "ax.set_ylabel('R^2')\n",
    "ax = plt.gca()\n",
    "ax.set_facecolor('xkcd:white')\n",
    "ax.axvline(optimal_alpha, color='black', linestyle='--')\n",
    "ax.legend();\n",
    "\n"
   ]
  },
  {
   "cell_type": "markdown",
   "metadata": {},
   "source": [
    "As can be seen the best result for Lasso is around alpha = 0; lets run another regression between 0 - 1 to see if there is any improvement"
   ]
  },
  {
   "cell_type": "code",
   "execution_count": 41,
   "metadata": {},
   "outputs": [
    {
     "name": "stdout",
     "output_type": "stream",
     "text": [
      "Lasso alpha = 0.0\n",
      "\n",
      "Lasso train score = 0.833\n",
      "\n",
      "Lasso test score = 0.549\n",
      "\n",
      "Lasso alpha = 0.1\n",
      "\n",
      "Lasso train score = 0.77\n",
      "\n",
      "Lasso test score = 0.571\n",
      "\n",
      "Lasso alpha = 0.2\n",
      "\n",
      "Lasso train score = 0.759\n",
      "\n",
      "Lasso test score = 0.519\n",
      "\n",
      "Lasso alpha = 0.30000000000000004\n",
      "\n",
      "Lasso train score = 0.754\n",
      "\n",
      "Lasso test score = 0.48\n",
      "\n",
      "Lasso alpha = 0.4\n",
      "\n",
      "Lasso train score = 0.75\n",
      "\n",
      "Lasso test score = 0.443\n",
      "\n",
      "Lasso alpha = 0.5\n",
      "\n",
      "Lasso train score = 0.745\n",
      "\n",
      "Lasso test score = 0.4\n",
      "\n",
      "Lasso alpha = 0.6000000000000001\n",
      "\n",
      "Lasso train score = 0.74\n",
      "\n",
      "Lasso test score = 0.357\n",
      "\n",
      "Lasso alpha = 0.7000000000000001\n",
      "\n",
      "Lasso train score = 0.737\n",
      "\n",
      "Lasso test score = 0.331\n",
      "\n",
      "Lasso alpha = 0.8\n",
      "\n",
      "Lasso train score = 0.736\n",
      "\n",
      "Lasso test score = 0.321\n",
      "\n",
      "Lasso alpha = 0.9\n",
      "\n",
      "Lasso train score = 0.735\n",
      "\n",
      "Lasso test score = 0.311\n",
      "\n",
      "Lasso alpha = 1.0\n",
      "\n",
      "Lasso train score = 0.734\n",
      "\n",
      "Lasso test score = 0.305\n",
      "\n"
     ]
    }
   ],
   "source": [
    "#run Lasso regressions incrementally using alpha's from 0 - 1 to see performance and output results\n",
    "\n",
    "lasso_poly_train_decimal = []\n",
    "lasso_poly_test_decimal = []\n",
    "alphas_decimal = []\n",
    "\n",
    "for alpha in np.linspace(0, 1, num=11):\n",
    "\n",
    "    lasso = Lasso(alpha) \n",
    "    lasso.fit(X_train_poly, y_train)\n",
    "\n",
    "    lasso_model_poly = cross_validate(\n",
    "    lasso, X_train_poly, y_train, scoring='r2', cv=crossvalidation, return_train_score = True)\n",
    "\n",
    "    print(f\"Lasso alpha = {lasso.alpha}\")\n",
    "    alphas_decimal.append(alpha)\n",
    "    print()\n",
    "    print(f'Lasso train score = {round(lasso_model_poly[\"train_score\"].mean(),3)}')\n",
    "    lasso_poly_train_decimal.append(round(lasso_model_poly[\"train_score\"].mean(),3))\n",
    "    print()\n",
    "    print(f'Lasso test score = {round(lasso_model_poly[\"test_score\"].mean(),3)}')\n",
    "    lasso_poly_test_decimal.append(round(lasso_model_poly[\"test_score\"].mean(),3))\n",
    "    print()"
   ]
  },
  {
   "cell_type": "code",
   "execution_count": 43,
   "metadata": {},
   "outputs": [
    {
     "data": {
      "image/png": "[encoded data removed]",
      "text/plain": [
       "<Figure size 720x432 with 1 Axes>"
      ]
     },
     "metadata": {
      "needs_background": "light"
     },
     "output_type": "display_data"
    }
   ],
   "source": [
    "#plot the output of the Lasso test\n",
    "\n",
    "fig, ax = plt.subplots(figsize=(10,6))\n",
    "optimal_alpha = 0\n",
    "ax.plot(alphas_decimal, lasso_poly_train_decimal, label='Train')\n",
    "ax.plot(alphas_decimal, lasso_poly_test_decimal, label='Test')\n",
    "ax.set_xlabel('Alpha')\n",
    "ax.set_ylabel('R^2')\n",
    "ax = plt.gca()\n",
    "ax.set_facecolor('xkcd:white')\n",
    "ax.axvline(optimal_alpha, color='black', linestyle='--')\n",
    "ax.legend();"
   ]
  },
  {
   "cell_type": "markdown",
   "metadata": {},
   "source": [
    "There is no real improvement over alpha = 0 for Lasso, so now lets run Ridge to see if we get an improvement"
   ]
  },
  {
   "cell_type": "markdown",
   "metadata": {},
   "source": [
    "## Ridge Regression"
   ]
  },
  {
   "cell_type": "code",
   "execution_count": 45,
   "metadata": {},
   "outputs": [
    {
     "name": "stdout",
     "output_type": "stream",
     "text": [
      "Ridge alpha = 0\n",
      "\n",
      "Ridge train score = 0.827\n",
      "\n",
      "Ridge test score = 0.506\n",
      "\n",
      "Ridge alpha = 1\n",
      "\n",
      "Ridge train score = 0.799\n",
      "\n",
      "Ridge test score = 0.608\n",
      "\n",
      "Ridge alpha = 2\n",
      "\n",
      "Ridge train score = 0.796\n",
      "\n",
      "Ridge test score = 0.611\n",
      "\n",
      "Ridge alpha = 3\n",
      "\n",
      "Ridge train score = 0.795\n",
      "\n",
      "Ridge test score = 0.612\n",
      "\n",
      "Ridge alpha = 4\n",
      "\n",
      "Ridge train score = 0.794\n",
      "\n",
      "Ridge test score = 0.612\n",
      "\n",
      "Ridge alpha = 5\n",
      "\n",
      "Ridge train score = 0.793\n",
      "\n",
      "Ridge test score = 0.612\n",
      "\n",
      "Ridge alpha = 6\n",
      "\n",
      "Ridge train score = 0.792\n",
      "\n",
      "Ridge test score = 0.611\n",
      "\n",
      "Ridge alpha = 7\n",
      "\n",
      "Ridge train score = 0.791\n",
      "\n",
      "Ridge test score = 0.611\n",
      "\n",
      "Ridge alpha = 8\n",
      "\n",
      "Ridge train score = 0.791\n",
      "\n",
      "Ridge test score = 0.61\n",
      "\n",
      "Ridge alpha = 9\n",
      "\n",
      "Ridge train score = 0.79\n",
      "\n",
      "Ridge test score = 0.61\n",
      "\n"
     ]
    }
   ],
   "source": [
    "#run Ridge regressions incrementally using alpha's from 1 - 9 to see performance and output results\n",
    "\n",
    "ridge_poly_train = []\n",
    "ridge_poly_test = []\n",
    "alphas = []\n",
    "\n",
    "for alpha in range(0,10):\n",
    "\n",
    "    ridge = Ridge(alpha) \n",
    "    ridge.fit(X_train_poly, y_train)\n",
    "\n",
    "    ridge_model_poly = cross_validate(\n",
    "    ridge, X_train_poly, y_train, scoring='r2', cv=crossvalidation, return_train_score = True)\n",
    "\n",
    "    print(f\"Ridge alpha = {ridge.alpha}\")\n",
    "    alphas.append(alpha)\n",
    "    print()\n",
    "    print(f'Ridge train score = {round(ridge_model_poly[\"train_score\"].mean(),3)}')\n",
    "    ridge_poly_train.append(round(ridge_model_poly[\"train_score\"].mean(),3))\n",
    "    print()\n",
    "    print(f'Ridge test score = {round(ridge_model_poly[\"test_score\"].mean(),3)}')\n",
    "    ridge_poly_test.append(round(ridge_model_poly[\"test_score\"].mean(),3))\n",
    "    print()\n"
   ]
  },
  {
   "cell_type": "code",
   "execution_count": 46,
   "metadata": {},
   "outputs": [
    {
     "data": {
      "image/png": "[encoded data removed]",
      "text/plain": [
       "<Figure size 720x432 with 1 Axes>"
      ]
     },
     "metadata": {
      "needs_background": "light"
     },
     "output_type": "display_data"
    }
   ],
   "source": [
    "#plot the output of the Ridge test\n",
    "\n",
    "fig, ax = plt.subplots(figsize=(10,6))\n",
    "optimal_alpha = 1\n",
    "ax.plot(alphas, ridge_poly_train, label='Train')\n",
    "ax.plot(alphas, ridge_poly_test, label='Test')\n",
    "ax.set_xlabel('Alpha')\n",
    "ax.set_ylabel('R^2')\n",
    "ax = plt.gca()\n",
    "ax.set_facecolor('xkcd:white')\n",
    "ax.axvline(optimal_alpha, color='black', linestyle='--')\n",
    "ax.legend();"
   ]
  },
  {
   "cell_type": "markdown",
   "metadata": {},
   "source": [
    "As can be seen the best result for Ridge is around alpha = 01 lets run another regression between 0 - 1 to see if there is any improvement"
   ]
  },
  {
   "cell_type": "code",
   "execution_count": 47,
   "metadata": {},
   "outputs": [
    {
     "name": "stdout",
     "output_type": "stream",
     "text": [
      "Ridge alpha = 0.0\n",
      "\n",
      "Ridge train score = 0.827\n",
      "\n",
      "Ridge test score = 0.506\n",
      "\n",
      "Ridge alpha = 0.1\n",
      "\n",
      "Ridge train score = 0.808\n",
      "\n",
      "Ridge test score = 0.585\n",
      "\n",
      "Ridge alpha = 0.2\n",
      "\n",
      "Ridge train score = 0.805\n",
      "\n",
      "Ridge test score = 0.592\n",
      "\n",
      "Ridge alpha = 0.30000000000000004\n",
      "\n",
      "Ridge train score = 0.803\n",
      "\n",
      "Ridge test score = 0.596\n",
      "\n",
      "Ridge alpha = 0.4\n",
      "\n",
      "Ridge train score = 0.802\n",
      "\n",
      "Ridge test score = 0.599\n",
      "\n",
      "Ridge alpha = 0.5\n",
      "\n",
      "Ridge train score = 0.801\n",
      "\n",
      "Ridge test score = 0.601\n",
      "\n",
      "Ridge alpha = 0.6000000000000001\n",
      "\n",
      "Ridge train score = 0.8\n",
      "\n",
      "Ridge test score = 0.603\n",
      "\n",
      "Ridge alpha = 0.7000000000000001\n",
      "\n",
      "Ridge train score = 0.8\n",
      "\n",
      "Ridge test score = 0.605\n",
      "\n",
      "Ridge alpha = 0.8\n",
      "\n",
      "Ridge train score = 0.799\n",
      "\n",
      "Ridge test score = 0.606\n",
      "\n",
      "Ridge alpha = 0.9\n",
      "\n",
      "Ridge train score = 0.799\n",
      "\n",
      "Ridge test score = 0.607\n",
      "\n",
      "Ridge alpha = 1.0\n",
      "\n",
      "Ridge train score = 0.799\n",
      "\n",
      "Ridge test score = 0.608\n",
      "\n"
     ]
    }
   ],
   "source": [
    "#run Ridge regressions incrementally using alpha's from 0 - 1 to see performance and output results\n",
    "\n",
    "ridge_poly_train_decimal = []\n",
    "ridge_poly_test_decimal = []\n",
    "alphas_decimal = []\n",
    "\n",
    "for alpha in np.linspace(0, 1, num=11):\n",
    "\n",
    "    ridge = Ridge(alpha) \n",
    "    lasso.fit(X_train_poly, y_train)\n",
    "\n",
    "    ridge_model_poly = cross_validate(\n",
    "    ridge, X_train_poly, y_train, scoring='r2', cv=crossvalidation, return_train_score = True)\n",
    "\n",
    "    print(f\"Ridge alpha = {ridge.alpha}\")\n",
    "    alphas_decimal.append(alpha)\n",
    "    print()\n",
    "    print(f'Ridge train score = {round(ridge_model_poly[\"train_score\"].mean(),3)}')\n",
    "    ridge_poly_train_decimal.append(round(ridge_model_poly[\"train_score\"].mean(),3))\n",
    "    print()\n",
    "    print(f'Ridge test score = {round(ridge_model_poly[\"test_score\"].mean(),3)}')\n",
    "    ridge_poly_test_decimal.append(round(ridge_model_poly[\"test_score\"].mean(),3))\n",
    "    print()"
   ]
  },
  {
   "cell_type": "code",
   "execution_count": 48,
   "metadata": {},
   "outputs": [
    {
     "data": {
      "image/png": "[encoded data removed]",
      "text/plain": [
       "<Figure size 720x432 with 1 Axes>"
      ]
     },
     "metadata": {
      "needs_background": "light"
     },
     "output_type": "display_data"
    }
   ],
   "source": [
    "#plot the output of the Ridge test\n",
    "\n",
    "fig, ax = plt.subplots(figsize=(10,6))\n",
    "optimal_alpha = 0.1\n",
    "ax.plot(alphas_decimal, ridge_poly_train_decimal, label='Train')\n",
    "ax.plot(alphas_decimal, ridge_poly_test_decimal, label='Test')\n",
    "ax.set_xlabel('Alpha')\n",
    "ax.set_ylabel('R^2')\n",
    "ax = plt.gca()\n",
    "ax.set_facecolor('xkcd:white')\n",
    "ax.axvline(optimal_alpha, color='black', linestyle='--')\n",
    "ax.legend();"
   ]
  },
  {
   "cell_type": "markdown",
   "metadata": {},
   "source": [
    "As can be seen above the best result is for Ridge regression using 2nd order polynomials and alpha = 1. Let's build a final model based on this"
   ]
  },
  {
   "cell_type": "markdown",
   "metadata": {},
   "source": [
    "## Final Model"
   ]
  },
  {
   "cell_type": "code",
   "execution_count": 49,
   "metadata": {},
   "outputs": [],
   "source": [
    "#final model intialisation\n",
    "\n",
    "final_model_ridge = Ridge(1)\n",
    "final_model = final_model_ridge.fit(X_train_poly, y_train)"
   ]
  },
  {
   "cell_type": "code",
   "execution_count": 51,
   "metadata": {},
   "outputs": [],
   "source": [
    "#create a sorted dataframe of the coefficients in the model to identify trends\n",
    "\n",
    "coefficients = pd.DataFrame(final_model_ridge.coef_, poly.get_feature_names(X_train.columns))\n",
    "coefficients = coefficients.rename(columns = {0 : \"Coefficients\"})\n",
    "coefficients = coefficients.sort_values(by = \"Coefficients\", ascending = False);\n",
    "coeffcient_strength = coefficients.head(10)"
   ]
  },
  {
   "cell_type": "code",
   "execution_count": 52,
   "metadata": {},
   "outputs": [
    {
     "data": {
      "image/png": "[encoded data removed]",
      "text/plain": [
       "<Figure size 576x720 with 1 Axes>"
      ]
     },
     "metadata": {
      "needs_background": "light"
     },
     "output_type": "display_data"
    }
   ],
   "source": [
    "#plot a top 10 list of the weight of coefficients in order to identify trends\n",
    "\n",
    "plt.rcParams['figure.figsize'] = (8.0, 10.0)\n",
    "coeffcient_strength.plot(kind = \"barh\")\n",
    "plt.title(\"Weight of effect\")\n",
    "plt.gca().invert_yaxis()"
   ]
  },
  {
   "cell_type": "markdown",
   "metadata": {},
   "source": [
    "## Model Sanity Checks"
   ]
  },
  {
   "cell_type": "code",
   "execution_count": 57,
   "metadata": {},
   "outputs": [
    {
     "data": {
      "image/png": "[encoded data removed]",
      "text/plain": [
       "<Figure size 576x720 with 1 Axes>"
      ]
     },
     "metadata": {
      "needs_background": "light"
     },
     "output_type": "display_data"
    }
   ],
   "source": [
    "# Create a dataframe of residuals for the X_train dataset and plot a scatterplot to check for homoscedasticity\n",
    "\n",
    "train_residuals = pd.DataFrame({\"Predictions\":final_model.predict(X_train_poly), \"True_value\":y_train})\n",
    "data = train_residuals[\"residuals\"] = train_residuals[\"True_value\"] - train_residuals[\"Predictions\"]\n",
    "train_residuals.plot(x=\"Predictions\", y=\"residuals\",kind = \"scatter\");"
   ]
  },
  {
   "cell_type": "markdown",
   "metadata": {},
   "source": [
    "The scatter plot above of residuals versus predictions shows a fairly random 'cloud' pattern suggesting the  homoscedasticity condition is fulfilled. "
   ]
  },
  {
   "cell_type": "code",
   "execution_count": 58,
   "metadata": {},
   "outputs": [
    {
     "data": {
      "image/png": "[encoded data removed]",
      "text/plain": [
       "<Figure size 576x720 with 1 Axes>"
      ]
     },
     "metadata": {
      "needs_background": "light"
     },
     "output_type": "display_data"
    }
   ],
   "source": [
    "#create a QQ plot of residuals to test for normality condition\n",
    "\n",
    "sm.qqplot(data, line ='45') \n",
    "py.show() "
   ]
  },
  {
   "cell_type": "markdown",
   "metadata": {},
   "source": [
    "As can be seen the QQ plot line is straight, however it is going in the wrong direction, which is incongruent with what we are seeing in the scatterplot. It would be good to have some steer on possible for reasons for this."
   ]
  },
  {
   "cell_type": "markdown",
   "metadata": {},
   "source": [
    "## Final Model Validation"
   ]
  },
  {
   "cell_type": "code",
   "execution_count": 62,
   "metadata": {},
   "outputs": [
    {
     "name": "stdout",
     "output_type": "stream",
     "text": [
      "Summary of final model for training and test sets\n",
      "-------------------------------------------------\n",
      "Training r^2: 0.6874240300618921\n",
      "--------------------------------------------------\n",
      "Test r^2: 0.6557860935049237\n"
     ]
    }
   ],
   "source": [
    "print('Summary of final model for training and test sets')\n",
    "print('-------------------------------------------------')\n",
    "final_model.fit(X_train, y_train)\n",
    "print('Training r^2:', final_model.score(X_train, y_train))\n",
    "print('--------------------------------------------------')\n",
    "\n",
    "final_model.fit(X_test, y_test)\n",
    "print('Test r^2:', final_model.score(X_test, y_test))"
   ]
  },
  {
   "cell_type": "markdown",
   "metadata": {},
   "source": [
    "Running our model on the test data shows that our R^2 is 0.65 which is slightly less than our initial baseline using a simple linear regression learner. The advantage of our approach is that we hace identified clusters of coefficients that are important to the overall effect we are seeing and provide more insight."
   ]
  },
  {
   "cell_type": "code",
   "execution_count": null,
   "metadata": {},
   "outputs": [],
   "source": []
  }
 ],
 "metadata": {
  "kernelspec": {
   "display_name": "Python 3",
   "language": "python",
   "name": "python3"
  },
  "language_info": {
   "codemirror_mode": {
    "name": "ipython",
    "version": 3
   },
   "file_extension": ".py",
   "mimetype": "text/x-python",
   "name": "python",
   "nbconvert_exporter": "python",
   "pygments_lexer": "ipython3",
   "version": "3.6.6"
  }
 },
 "nbformat": 4,
 "nbformat_minor": 4
}
