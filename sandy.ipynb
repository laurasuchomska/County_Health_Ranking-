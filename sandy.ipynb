{
 "cells": [
  {
   "cell_type": "code",
   "execution_count": null,
   "metadata": {},
   "outputs": [],
   "source": [
    "import pandas as pd\n",
    "import notebook_toolkit as nt\n",
    "nt.set_environment()\n",
    "%run variables.py\n",
    "raw_df = pd.read_csv(\"analytic_data2019.csv\")"
   ]
  },
  {
   "cell_type": "code",
   "execution_count": null,
   "metadata": {},
   "outputs": [],
   "source": [
    "working_df = nt.drop_column_keyword_search(raw_df, keywords)"
   ]
  },
  {
   "cell_type": "code",
   "execution_count": null,
   "metadata": {},
   "outputs": [],
   "source": [
    "ten_percent_missing_values_columns = nt.column_null_percentage(working_df)\n",
    "working_df = working_df.drop(columns = ten_percent_missing_values_columns.index)\n",
    "working_df = working_df.drop(0)"
   ]
  },
  {
   "cell_type": "code",
   "execution_count": null,
   "metadata": {},
   "outputs": [],
   "source": [
    "string_datatype_df = working_df.iloc[:, 0:4]\n",
    "float_datatype_df = working_df.iloc[:, 5:].astype(float)\n",
    "working_df = pd.concat([string_datatype_df, float_datatype_df], axis = 1)"
   ]
  },
  {
   "cell_type": "code",
   "execution_count": null,
   "metadata": {},
   "outputs": [],
   "source": [
    "non_county_df = working_df[working_df[ranked].isnull()]\n",
    "non_county_df.reset_index(inplace = True)\n",
    "del non_county_df[\"index\"], non_county_df[ranked]"
   ]
  },
  {
   "cell_type": "code",
   "execution_count": null,
   "metadata": {},
   "outputs": [],
   "source": [
    "county_level_df = working_df[working_df[ranked].notnull()]\n",
    "county_level_df.reset_index(inplace = True)\n",
    "del county_level_df[\"index\"], county_level_df[ranked]"
   ]
  },
  {
   "cell_type": "code",
   "execution_count": null,
   "metadata": {},
   "outputs": [],
   "source": [
    "county_level_df = county_level_df.fillna(county_level_df.median())"
   ]
  },
  {
   "cell_type": "code",
   "execution_count": null,
   "metadata": {},
   "outputs": [],
   "source": [
    "non_county_df[free_lunch] = non_county_df[free_lunch].fillna(non_county_df[free_lunch].median())"
   ]
  },
  {
   "cell_type": "code",
   "execution_count": null,
   "metadata": {},
   "outputs": [],
   "source": [
    "del non_county_df[housing_costs], non_county_df[overcrowding]\n",
    "del non_county_df[facilities], non_county_df[release_year]"
   ]
  },
  {
   "cell_type": "code",
   "execution_count": null,
   "metadata": {},
   "outputs": [],
   "source": [
    "non_county_df.iloc[2,35] = non_county_df.iloc[:,35].median()\n",
    "non_county_df.iloc[12,35] = non_county_df.iloc[:,35].median()\n",
    "non_county_df.iloc[12,36] = non_county_df.iloc[:,36].median()\n",
    "non_county_df = non_county_df.fillna(non_county_df.mean())"
   ]
  },
  {
   "cell_type": "code",
   "execution_count": null,
   "metadata": {},
   "outputs": [],
   "source": [
    "national_level_df = non_county_df.iloc[0]\n",
    "state_level_df = non_county_df.iloc[1:,:]"
   ]
  },
  {
   "cell_type": "code",
   "execution_count": null,
   "metadata": {},
   "outputs": [],
   "source": [
    "nt.correlation_matrix(county_level_df);"
   ]
  },
  {
   "cell_type": "code",
   "execution_count": null,
   "metadata": {},
   "outputs": [],
   "source": [
    "nt.correlation_matrix(state_level_df);"
   ]
  },
  {
   "cell_type": "code",
   "execution_count": null,
   "metadata": {},
   "outputs": [],
   "source": [
    "national_level_df.isna().sum()"
   ]
  },
  {
   "cell_type": "code",
   "execution_count": null,
   "metadata": {},
   "outputs": [],
   "source": [
    "state_level_df.isna().sum()"
   ]
  },
  {
   "cell_type": "code",
   "execution_count": null,
   "metadata": {},
   "outputs": [],
   "source": [
    "county_level_df.isna().sum()"
   ]
  },
  {
   "cell_type": "code",
   "execution_count": null,
   "metadata": {},
   "outputs": [],
   "source": []
  }
 ],
 "metadata": {
  "kernelspec": {
   "display_name": "Python 3.6.10 64-bit ('learn-env': conda)",
   "language": "python",
   "name": "python361064bitlearnenvcondae8fa131a2eb1412d9f68874ea95e0a1a"
  },
  "language_info": {
   "codemirror_mode": {
    "name": "ipython",
    "version": 3
   },
   "file_extension": ".py",
   "mimetype": "text/x-python",
   "name": "python",
   "nbconvert_exporter": "python",
   "pygments_lexer": "ipython3",
   "version": "3.6.6"
  }
 },
 "nbformat": 4,
 "nbformat_minor": 4
}
